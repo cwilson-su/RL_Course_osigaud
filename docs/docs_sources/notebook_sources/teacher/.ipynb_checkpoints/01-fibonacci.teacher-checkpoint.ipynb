{
 "cells": [
  {
   "cell_type": "markdown",
   "id": "65521b17",
   "metadata": {},
   "source": [
    "# Outlook\n",
    "\n",
    "In this notebook, using BBRL, we code a simple agent writing in a simple workspace to implement the Fibonacci sequence of numbers.\n",
    "\n",
    "To understand this code, you need to first read \n",
    "[the BBRL documentation](https://github.com/osigaud/bbrl/docs/index.html)."
   ]
  },
  {
   "cell_type": "markdown",
   "id": "c7ad1590",
   "metadata": {},
   "source": [
    "## Installation and Imports\n",
    "\n",
    "### Installation\n",
    "\n",
    "The BBRL library is [here](https://github.com/osigaud/bbrl).\n",
    "\n",
    "Below, we import standard python packages, pytorch packages and gymnasium\n",
    "environments."
   ]
  },
  {
   "cell_type": "code",
   "execution_count": 1,
   "id": "980c2b15",
   "metadata": {
    "tags": [
     "hide-input"
    ]
   },
   "outputs": [],
   "source": [
    "# Installs the necessary Python and system libraries\n",
    "try:\n",
    "    from easypip import easyimport, easyinstall, is_notebook\n",
    "except ModuleNotFoundError as e:\n",
    "    get_ipython().run_line_magic(\"pip\", \"install easypip\")\n",
    "    from easypip import easyimport, easyinstall, is_notebook\n",
    "\n",
    "easyinstall(\"bbrl>=0.2.2\")"
   ]
  },
  {
   "cell_type": "code",
   "execution_count": 2,
   "id": "0864bce7",
   "metadata": {
    "tags": [
     "hide-input"
    ]
   },
   "outputs": [],
   "source": [
    "import os\n",
    "import sys\n",
    "from pathlib import Path\n",
    "import math\n",
    "\n",
    "import time\n",
    "from tqdm.auto import tqdm\n",
    "\n",
    "import copy\n",
    "from abc import abstractmethod, ABC\n",
    "import torch\n",
    "import torch.nn as nn\n",
    "import torch.nn.functional as F"
   ]
  },
  {
   "cell_type": "code",
   "execution_count": 3,
   "id": "d744e39b",
   "metadata": {
    "lines_to_next_cell": 1,
    "tags": [
     "hide-input"
    ]
   },
   "outputs": [],
   "source": [
    "# Imports all the necessary classes and functions from BBRL\n",
    "from bbrl.agents.agent import Agent\n",
    "# The workspace is the main class in BBRL, this is where all data is collected and stored\n",
    "from bbrl.workspace import Workspace\n",
    "\n",
    "# Agents(agent1,agent2,agent3,...) executes the different agents the one after the other\n",
    "# TemporalAgent(agent) executes an agent over multiple timesteps in the workspace, \n",
    "# or until a given condition is reached\n",
    "from bbrl.agents import Agents, TemporalAgent"
   ]
  },
  {
   "cell_type": "markdown",
   "id": "7eef5c06",
   "metadata": {},
   "source": [
    "## Definition of agents\n",
    "\n",
    "Our Fibonacci agent reads the current number, adds time and write the resulting number at the next time step"
   ]
  },
  {
   "cell_type": "code",
   "execution_count": 4,
   "id": "ab3a7508",
   "metadata": {
    "lines_to_next_cell": 1
   },
   "outputs": [],
   "source": [
    "class FibonacciAgent(Agent):\n",
    "    \"\"\" An agent to compute the Fibonacci sequence of numbers.\"\"\"\n",
    "    \n",
    "    def __init__(self, *args, **kwargs):\n",
    "        super().__init__(*args, **kwargs)\n",
    "\n",
    "    def forward(self, t, **kwargs):\n",
    "        number = self.get((\"number\", t))\n",
    "        next_value = number + torch.Tensor([t])\n",
    "        self.set((\"number\", t+1), next_value)"
   ]
  },
  {
   "cell_type": "markdown",
   "id": "791f8684",
   "metadata": {},
   "source": [
    "We need a specific agent to write a 1 at the first time steps"
   ]
  },
  {
   "cell_type": "code",
   "execution_count": 9,
   "id": "3b1ee7d5",
   "metadata": {
    "lines_to_next_cell": 1
   },
   "outputs": [],
   "source": [
    "class InitAgent(Agent):\n",
    "    \"\"\" The agent to initialize the sequence of numbers.\"\"\"\n",
    "    \n",
    "    def __init__(self, *args, **kwargs):\n",
    "        super().__init__(*args, **kwargs)\n",
    "\n",
    "    def forward(self, t, **kwargs):\n",
    "        self.set((\"number\", t), torch.Tensor([1]))"
   ]
  },
  {
   "cell_type": "code",
   "execution_count": 10,
   "id": "877dde97",
   "metadata": {},
   "outputs": [
    {
     "name": "stdout",
     "output_type": "stream",
     "text": [
      "init: tensor([[1.]])\n",
      "5th Fibonacci number :  tensor([11.])\n"
     ]
    }
   ],
   "source": [
    "# Creates a new workspace\n",
    "agent = FibonacciAgent()\n",
    "temp_agent = TemporalAgent(Agents(agent))\n",
    "\n",
    "init_agent = TemporalAgent(Agents(InitAgent()))\n",
    "\n",
    "workspace = Workspace() \n",
    "\n",
    "# Execute the first step\n",
    "init_agent(workspace, t=0, n_steps=1)\n",
    "\n",
    "print(\"init:\", workspace[\"number\"])\n",
    "\n",
    "temp_agent(workspace, t=0, n_steps=10)\n",
    "\n",
    "fib5 = workspace.get(\"number\", 5)\n",
    "print(\"5th Fibonacci number : \", fib5)\n",
    "\n",
    "sequence = workspace[\"number\"]"
   ]
  },
  {
   "cell_type": "markdown",
   "id": "e62d4bf8",
   "metadata": {},
   "source": [
    "Let us now see the workspace"
   ]
  },
  {
   "cell_type": "code",
   "execution_count": 7,
   "id": "045c53e6",
   "metadata": {},
   "outputs": [
    {
     "name": "stdout",
     "output_type": "stream",
     "text": [
      "number tensor([[5.1886e+11],\n",
      "        [5.1886e+11],\n",
      "        [5.1886e+11],\n",
      "        [5.1886e+11],\n",
      "        [5.1886e+11],\n",
      "        [5.1886e+11],\n",
      "        [5.1886e+11],\n",
      "        [5.1886e+11],\n",
      "        [5.1886e+11],\n",
      "        [5.1886e+11],\n",
      "        [5.1886e+11]])\n"
     ]
    }
   ],
   "source": [
    "for key in workspace.variables.keys():\n",
    "    print(key, workspace[key])"
   ]
  },
  {
   "cell_type": "markdown",
   "id": "605ca2aa",
   "metadata": {},
   "source": [
    "### Termination\n",
    "\n",
    "`env/done` tells us if the episode was finished or not\n",
    "here, with NoAutoReset, (1) we wait that all episodes are \"done\",\n",
    "and when an episode is finished the flag remains True.\n",
    "Note that when an environment is done before the others, its content is copied until the termination of all environments.\n",
    "This is convenient for collecting the final reward."
   ]
  },
  {
   "cell_type": "code",
   "execution_count": 8,
   "id": "c82731bf",
   "metadata": {},
   "outputs": [
    {
     "ename": "AssertionError",
     "evalue": "[Workspace.get_full] unknown variable: env/done",
     "output_type": "error",
     "traceback": [
      "\u001b[0;31m---------------------------------------------------------------------------\u001b[0m",
      "\u001b[0;31mAssertionError\u001b[0m                            Traceback (most recent call last)",
      "Cell \u001b[0;32mIn[8], line 1\u001b[0m\n\u001b[0;32m----> 1\u001b[0m \u001b[43mworkspace\u001b[49m\u001b[43m[\u001b[49m\u001b[38;5;124;43m\"\u001b[39;49m\u001b[38;5;124;43menv/done\u001b[39;49m\u001b[38;5;124;43m\"\u001b[39;49m\u001b[43m]\u001b[49m\u001b[38;5;241m.\u001b[39mshape, workspace[\u001b[38;5;124m\"\u001b[39m\u001b[38;5;124menv/done\u001b[39m\u001b[38;5;124m\"\u001b[39m][\u001b[38;5;241m-\u001b[39m\u001b[38;5;241m10\u001b[39m:]\n",
      "File \u001b[0;32m~/Bureau/sigaud/Cours/labs/rl/bbrl/src/bbrl/workspace.py:420\u001b[0m, in \u001b[0;36mWorkspace.__getitem__\u001b[0;34m(self, key)\u001b[0m\n\u001b[1;32m    416\u001b[0m \u001b[38;5;250m\u001b[39m\u001b[38;5;124;03m\"\"\"If key is a string, then it returns a torch.Tensor\u001b[39;00m\n\u001b[1;32m    417\u001b[0m \u001b[38;5;124;03mIf key is a list of string, it returns a tuple of torch.Tensor\u001b[39;00m\n\u001b[1;32m    418\u001b[0m \u001b[38;5;124;03m\"\"\"\u001b[39;00m\n\u001b[1;32m    419\u001b[0m \u001b[38;5;28;01mif\u001b[39;00m \u001b[38;5;28misinstance\u001b[39m(key, \u001b[38;5;28mstr\u001b[39m):\n\u001b[0;32m--> 420\u001b[0m     \u001b[38;5;28;01mreturn\u001b[39;00m \u001b[38;5;28;43mself\u001b[39;49m\u001b[38;5;241;43m.\u001b[39;49m\u001b[43mget_full\u001b[49m\u001b[43m(\u001b[49m\u001b[43mkey\u001b[49m\u001b[43m,\u001b[49m\u001b[43m \u001b[49m\u001b[38;5;28;43;01mNone\u001b[39;49;00m\u001b[43m)\u001b[49m\n\u001b[1;32m    421\u001b[0m \u001b[38;5;28;01melse\u001b[39;00m:\n\u001b[1;32m    422\u001b[0m     \u001b[38;5;28;01mreturn\u001b[39;00m (\u001b[38;5;28mself\u001b[39m\u001b[38;5;241m.\u001b[39mget_full(k, \u001b[38;5;28;01mNone\u001b[39;00m) \u001b[38;5;28;01mfor\u001b[39;00m k \u001b[38;5;129;01min\u001b[39;00m key)\n",
      "File \u001b[0;32m~/Bureau/sigaud/Cours/labs/rl/bbrl/src/bbrl/workspace.py:406\u001b[0m, in \u001b[0;36mWorkspace.get_full\u001b[0;34m(self, var_name, batch_dims)\u001b[0m\n\u001b[1;32m    402\u001b[0m \u001b[38;5;28;01mdef\u001b[39;00m \u001b[38;5;21mget_full\u001b[39m(\n\u001b[1;32m    403\u001b[0m     \u001b[38;5;28mself\u001b[39m, var_name: \u001b[38;5;28mstr\u001b[39m, batch_dims: Optional[\u001b[38;5;28mtuple\u001b[39m[\u001b[38;5;28mint\u001b[39m, \u001b[38;5;28mint\u001b[39m]] \u001b[38;5;241m=\u001b[39m \u001b[38;5;28;01mNone\u001b[39;00m\n\u001b[1;32m    404\u001b[0m ) \u001b[38;5;241m-\u001b[39m\u001b[38;5;241m>\u001b[39m torch\u001b[38;5;241m.\u001b[39mTensor:\n\u001b[1;32m    405\u001b[0m \u001b[38;5;250m    \u001b[39m\u001b[38;5;124;03m\"\"\"Return the complete tensor for var_name\"\"\"\u001b[39;00m\n\u001b[0;32m--> 406\u001b[0m     \u001b[38;5;28;01massert\u001b[39;00m (\n\u001b[1;32m    407\u001b[0m         var_name \u001b[38;5;129;01min\u001b[39;00m \u001b[38;5;28mself\u001b[39m\u001b[38;5;241m.\u001b[39mvariables\n\u001b[1;32m    408\u001b[0m     ), \u001b[38;5;124mf\u001b[39m\u001b[38;5;124m\"\u001b[39m\u001b[38;5;124m[Workspace.get_full] unknown variable: \u001b[39m\u001b[38;5;132;01m{\u001b[39;00mvar_name\u001b[38;5;132;01m}\u001b[39;00m\u001b[38;5;124m\"\u001b[39m\n\u001b[1;32m    409\u001b[0m     \u001b[38;5;28;01mreturn\u001b[39;00m \u001b[38;5;28mself\u001b[39m\u001b[38;5;241m.\u001b[39mvariables[var_name]\u001b[38;5;241m.\u001b[39mget_full(batch_dims\u001b[38;5;241m=\u001b[39mbatch_dims)\n",
      "\u001b[0;31mAssertionError\u001b[0m: [Workspace.get_full] unknown variable: env/done"
     ]
    }
   ],
   "source": [
    "workspace[\"env/done\"].shape, workspace[\"env/done\"][-10:]"
   ]
  },
  {
   "cell_type": "markdown",
   "id": "e57ee40c",
   "metadata": {},
   "source": [
    "The resulting tensor of observations, with the last two observations"
   ]
  },
  {
   "cell_type": "code",
   "execution_count": null,
   "id": "f087b71b",
   "metadata": {},
   "outputs": [],
   "source": [
    "workspace[\"env/env_obs\"].shape, workspace[\"env/env_obs\"][-2:]"
   ]
  },
  {
   "cell_type": "markdown",
   "id": "e94ee778",
   "metadata": {},
   "source": [
    "The resulting tensor of rewards, with the last 8 rewards"
   ]
  },
  {
   "cell_type": "code",
   "execution_count": null,
   "id": "f2139d88",
   "metadata": {},
   "outputs": [],
   "source": [
    "workspace[\"env/reward\"].shape, workspace[\"env/reward\"][-8:]"
   ]
  },
  {
   "cell_type": "markdown",
   "id": "c916fc11",
   "metadata": {},
   "source": [
    "The resulting tensor of actions, with the last two actions"
   ]
  },
  {
   "cell_type": "code",
   "execution_count": null,
   "id": "0c88ea06",
   "metadata": {},
   "outputs": [],
   "source": [
    "workspace[\"action\"].shape, workspace[\"action\"][-2:]"
   ]
  }
 ],
 "metadata": {
  "jupytext": {
   "cell_markers": "\"\"\""
  },
  "kernelspec": {
   "display_name": "Python 3 (ipykernel)",
   "language": "python",
   "name": "python3"
  },
  "language_info": {
   "codemirror_mode": {
    "name": "ipython",
    "version": 3
   },
   "file_extension": ".py",
   "mimetype": "text/x-python",
   "name": "python",
   "nbconvert_exporter": "python",
   "pygments_lexer": "ipython3",
   "version": "3.9.16"
  }
 },
 "nbformat": 4,
 "nbformat_minor": 5
}
